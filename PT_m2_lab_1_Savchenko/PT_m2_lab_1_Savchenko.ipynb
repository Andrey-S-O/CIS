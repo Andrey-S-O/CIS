{
 "cells": [
  {
   "cell_type": "markdown",
   "id": "5f1000fc",
   "metadata": {},
   "source": [
    "# Лабораторна робота 1"
   ]
  },
  {
   "cell_type": "markdown",
   "id": "6f643781",
   "metadata": {},
   "source": [
    "## Тема: Робота з OpenCV у середовищі Anaconda"
   ]
  },
  {
   "cell_type": "markdown",
   "id": "656826d8",
   "metadata": {},
   "source": [
    "## Мета: quick start для роботи з бібліотекою з відкритим кодом для комп’ютерного зору та обробки зображень OpenCV у середовищі Anaconda із застосуванням Jupyter Notebook засобами мови програмування Python."
   ]
  },
  {
   "cell_type": "markdown",
   "id": "7434c303",
   "metadata": {},
   "source": [
    "*Зробив: Савченко Андрій*"
   ]
  },
  {
   "cell_type": "markdown",
   "id": "49cc17d4",
   "metadata": {},
   "source": [
    "*Виконав: 10.10.2024*"
   ]
  },
  {
   "cell_type": "markdown",
   "id": "1c0117af",
   "metadata": {},
   "source": [
    "## Завдання для самостіної роботи"
   ]
  },
  {
   "cell_type": "markdown",
   "id": "de812b6f",
   "metadata": {},
   "source": [
    "### 1. Завантажити і встановити збірку Python Anaconda."
   ]
  },
  {
   "cell_type": "markdown",
   "id": "b65f949c",
   "metadata": {},
   "source": [
    "### 2. Через інтерфейс командного рядка налаштувати за допомогою conda віртуальне середовище з ім’ям StudentLastName_OpenCV. Етапи роботи підтвердити скріншотами."
   ]
  },
  {
   "cell_type": "markdown",
   "id": "6115a5ca",
   "metadata": {},
   "source": [
    "### 3. Проінсталювати в створене середовище пакети, необхідні для роботи з OpenCV."
   ]
  },
  {
   "cell_type": "markdown",
   "id": "04f10ef4",
   "metadata": {},
   "source": [
    "### 4. Створити Notebook-документ lab_1_StudentLastName за допомогою Jupyter Notebook. (Див. тут, тут і тут)."
   ]
  },
  {
   "cell_type": "markdown",
   "id": "a7151d9a",
   "metadata": {},
   "source": [
    "### 5. Відобразити в робочому документі (“зошиті” ipython) виконання пунктів 1-3 індивідуального завдання."
   ]
  },
  {
   "cell_type": "markdown",
   "id": "609dce76",
   "metadata": {},
   "source": [
    "### 6. Сфотографувати себе на камеру і виконати імпорт і візуалізацію кольорового та напівтонового зображення у робочий документ."
   ]
  },
  {
   "cell_type": "markdown",
   "id": "4afdcad6",
   "metadata": {},
   "source": [
    "<img src=\"Andrey.jpg\">"
   ]
  },
  {
   "cell_type": "code",
   "execution_count": 1,
   "id": "2c0245ef",
   "metadata": {},
   "outputs": [],
   "source": [
    "from PIL import Image\n",
    "import numpy as np\n",
    "\n",
    "# Завантаження кольорового зображення\n",
    "image_path = 'Andrey.jpg'  # Шлях до зображення\n",
    "image = Image.open(image_path)\n",
    "\n",
    "# Перетворення зображення у напівтонове (чорно-біле)\n",
    "halftone_image = image.convert('L')\n",
    "\n",
    "# Показати результат\n",
    "halftone_image.show()\n",
    "\n",
    "# Зберегти напівтонове зображення на диск\n",
    "halftone_image.save('halftone_image.jpg')"
   ]
  },
  {
   "cell_type": "markdown",
   "id": "ae0531e6",
   "metadata": {},
   "source": [
    "<img src=\"halftone_image.jpg\">"
   ]
  },
  {
   "cell_type": "markdown",
   "id": "9b317c6f",
   "metadata": {},
   "source": [
    "### 7. Виконати переведення кольорового зображення у напівтонове і записати його на диск."
   ]
  },
  {
   "cell_type": "markdown",
   "id": "a4e222d6",
   "metadata": {},
   "source": [
    "### 8. Робочий документ оформити у вигляді Notebook-документу (файл .ipynb)."
   ]
  },
  {
   "cell_type": "markdown",
   "id": "f8e5bc15",
   "metadata": {},
   "source": [
    "### 9. Дати відповіді на контрольні запитання."
   ]
  },
  {
   "cell_type": "markdown",
   "id": "7803cd68",
   "metadata": {},
   "source": [
    "### 10. Скомпілювати звіт у форматі .html. Для цього необхідно завантажити термінал і у командному рядку запустити наступну команду:"
   ]
  },
  {
   "cell_type": "markdown",
   "id": "f8a47da4",
   "metadata": {},
   "source": [
    "jupyter nbconvert lab_1_StudentLastName.ipynb --to html"
   ]
  },
  {
   "cell_type": "markdown",
   "id": "56f4884b",
   "metadata": {},
   "source": [
    "### 11. Проект розмістити у власному репозиторії на GitHub (посилання на нього вказати у відповіді на завдання на krnu.org). Проект має складатися мінімум з двох файлів:lab_1_StudentLastName.ipynb та lab_1_StudentLastName.html"
   ]
  },
  {
   "cell_type": "markdown",
   "id": "0db0c85f",
   "metadata": {},
   "source": [
    "## Контрольні запитання"
   ]
  },
  {
   "cell_type": "markdown",
   "id": "5daffb38",
   "metadata": {},
   "source": [
    "### 1. Що таке pip і conda та чим вони відрізняються між собою?"
   ]
  },
  {
   "cell_type": "markdown",
   "id": "1b73e6e8",
   "metadata": {},
   "source": [
    "pip (Python Installer Package) — це стандартний менеджер пакетів для Python, який використовується для встановлення та управління пакетами, доступними в репозиторії PyPI (Python Package Index). Він дозволяє встановлювати бібліотеки та модулі для Python, але не має вбудованих можливостей управління середовищами (як це робить conda)."
   ]
  },
  {
   "cell_type": "markdown",
   "id": "165979b9",
   "metadata": {},
   "source": [
    "conda — це менеджер пакетів і середовищ, що підтримує не тільки Python, але й інші мови програмування (наприклад, R). Він дозволяє встановлювати пакети з власного репозиторію Anaconda (або Miniconda) і має вбудовану підтримку для створення віртуальних середовищ, включаючи бібліотеки, що не пов’язані з Python, наприклад C/C++."
   ]
  },
  {
   "cell_type": "markdown",
   "id": "adda83dd",
   "metadata": {},
   "source": [
    "Основні відмінності:"
   ]
  },
  {
   "cell_type": "markdown",
   "id": "4bb9d492",
   "metadata": {},
   "source": [
    "•\tpip тільки менеджер пакетів для Python, пакети тільки з PyPI, працює з будь-якими віртуальними середовищами, такими як virtualenv."
   ]
  },
  {
   "cell_type": "markdown",
   "id": "0b34e562",
   "metadata": {},
   "source": [
    "•\tconda універсальний менеджер пакетів і середовищ, підтримує кілька мов, може працювати з бібліотеками, написаними на інших мовах, пакети беруться з репозиторію Anaconda."
   ]
  },
  {
   "cell_type": "markdown",
   "id": "2b4d7375",
   "metadata": {},
   "source": [
    "### 2. Як буде виглядати виконання пунктів 1-3 індивідуального завдання за допомогою Virtualenv?"
   ]
  },
  {
   "cell_type": "markdown",
   "id": "0e946e22",
   "metadata": {},
   "source": [
    "1.Створення віртуального середовища:\n",
    "\n",
    "python -m venv myenv\n",
    "\n",
    "2.Активуйте віртуальне середовище:\n",
    "\n",
    "myenv\\Scripts\\activate\n",
    "\n",
    "3.Запустіть Python-скрипт:\n",
    "\n",
    "python my_script.py"
   ]
  },
  {
   "cell_type": "markdown",
   "id": "9bb4f564",
   "metadata": {},
   "source": [
    "### 3. Як виконати візуалізацію зображення (див. п.3) засобами mathplotlib?"
   ]
  },
  {
   "cell_type": "markdown",
   "id": "abcbd10c",
   "metadata": {},
   "source": [
    "Для візуалізації зображення за допомогою бібліотеки matplotlib, ось як можна це зробити:\n",
    "import matplotlib.pyplot as plt\n",
    "import numpy as np\n",
    "from PIL import Image\n",
    "\n",
    "#Завантаження зображення\n",
    "\n",
    "image_path = 'path_to_your_image.jpg'\n",
    "image = Image.open(image_path)\n",
    "\n",
    "#Перетворення зображення у формат, придатний для візуалізації\n",
    "\n",
    "image_array = np.array(image)\n",
    "\n",
    "#Відображення зображення за допомогою matplotlib\n",
    "\n",
    "plt.imshow(image_array)\n",
    "plt.axis('off')  # Вимкнути вісь для краси\n",
    "plt.show()"
   ]
  },
  {
   "cell_type": "markdown",
   "id": "f129da09",
   "metadata": {},
   "source": [
    "### 4. Як виконати компіляцію вхідного документа Jupyter Notebook із його середовища , не використовуючи інтерфейс командного рядка?"
   ]
  },
  {
   "cell_type": "markdown",
   "id": "b96671eb",
   "metadata": {},
   "source": [
    "Можна виконати експорт (компіляцію) Jupyter Notebook без використання командного рядка, використовуючи вбудовані функції Jupyter або написати код для цього всередині нотатника:\n",
    "Спосіб 1: Використання вбудованого інтерфейсу Jupyter Notebook\n",
    "•\tВідкрийте ваш Jupyter Notebook.\n",
    "•\tПерейдіть до меню \"File\" > \"Download as\" і виберіть формат, у який ви хочете експортувати (наприклад, .pdf, .html, .py тощо).\n",
    "Спосіб 2: Використання Python-коду всередині нотатника\n",
    "from nbconvert import HTMLExporter\n",
    "import nbformat\n",
    "\n",
    "#Завантаження нотатника\n",
    "\n",
    "notebook_filename = 'your_notebook.ipynb'\n",
    "with open(notebook_filename) as f:\n",
    "    notebook_content = nbformat.read(f, as_version=4)\n",
    "\n",
    "#Експортування в HTML (можна вибрати інші формати, такі як PDF або LaTeX)\n",
    "\n",
    "html_exporter = HTMLExporter()\n",
    "(html_output, resources) = html_exporter.from_notebook_node(notebook_content)\n",
    "\n",
    "#Збереження HTML-файлу\n",
    "\n",
    "with open('exported_notebook.html', 'w') as f:\n",
    "    f.write(html_output)"
   ]
  }
 ],
 "metadata": {
  "kernelspec": {
   "display_name": "Python 3 (ipykernel)",
   "language": "python",
   "name": "python3"
  },
  "language_info": {
   "codemirror_mode": {
    "name": "ipython",
    "version": 3
   },
   "file_extension": ".py",
   "mimetype": "text/x-python",
   "name": "python",
   "nbconvert_exporter": "python",
   "pygments_lexer": "ipython3",
   "version": "3.11.5"
  }
 },
 "nbformat": 4,
 "nbformat_minor": 5
}
